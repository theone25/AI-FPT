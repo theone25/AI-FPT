{
 "cells": [
  {
   "cell_type": "code",
   "execution_count": 1,
   "metadata": {},
   "outputs": [],
   "source": [
    "import numpy as np\n",
    "import cv2\n",
    "import matplotlib.pyplot as plt\n",
    "import time"
   ]
  },
  {
   "cell_type": "code",
   "execution_count": 2,
   "metadata": {},
   "outputs": [
    {
     "ename": "FileNotFoundError",
     "evalue": "[Errno 2] No such file or directory: 'obj.names'",
     "output_type": "error",
     "traceback": [
      "\u001b[1;31m---------------------------------------------------------------------------\u001b[0m",
      "\u001b[1;31mFileNotFoundError\u001b[0m                         Traceback (most recent call last)",
      "\u001b[1;32m<ipython-input-2-6cda8463296a>\u001b[0m in \u001b[0;36m<module>\u001b[1;34m\u001b[0m\n\u001b[0;32m      1\u001b[0m \u001b[1;31m# Opening file, reading, eliminating whitespaces, and splitting by '\\n', which in turn creates list\u001b[0m\u001b[1;33m\u001b[0m\u001b[1;33m\u001b[0m\u001b[1;33m\u001b[0m\u001b[0m\n\u001b[1;32m----> 2\u001b[1;33m \u001b[0mlabels\u001b[0m \u001b[1;33m=\u001b[0m \u001b[0mopen\u001b[0m\u001b[1;33m(\u001b[0m\u001b[1;34m'obj.names'\u001b[0m\u001b[1;33m)\u001b[0m\u001b[1;33m.\u001b[0m\u001b[0mread\u001b[0m\u001b[1;33m(\u001b[0m\u001b[1;33m)\u001b[0m\u001b[1;33m.\u001b[0m\u001b[0mstrip\u001b[0m\u001b[1;33m(\u001b[0m\u001b[1;33m)\u001b[0m\u001b[1;33m.\u001b[0m\u001b[0msplit\u001b[0m\u001b[1;33m(\u001b[0m\u001b[1;34m'\\n'\u001b[0m\u001b[1;33m)\u001b[0m  \u001b[1;31m# list of class names\u001b[0m\u001b[1;33m\u001b[0m\u001b[1;33m\u001b[0m\u001b[0m\n\u001b[0m\u001b[0;32m      3\u001b[0m \u001b[1;33m\u001b[0m\u001b[0m\n\u001b[0;32m      4\u001b[0m \u001b[1;31m# # Check point\u001b[0m\u001b[1;33m\u001b[0m\u001b[1;33m\u001b[0m\u001b[1;33m\u001b[0m\u001b[0m\n\u001b[0;32m      5\u001b[0m \u001b[0mprint\u001b[0m\u001b[1;33m(\u001b[0m\u001b[0mlabels\u001b[0m\u001b[1;33m)\u001b[0m\u001b[1;33m\u001b[0m\u001b[1;33m\u001b[0m\u001b[0m\n",
      "\u001b[1;31mFileNotFoundError\u001b[0m: [Errno 2] No such file or directory: 'obj.names'"
     ]
    }
   ],
   "source": [
    "# Opening file, reading, eliminating whitespaces, and splitting by '\\n', which in turn creates list\n",
    "labels = open('obj.names').read().strip().split('\\n')  # list of class names\n",
    "\n",
    "# # Check point\n",
    "print(labels)"
   ]
  },
  {
   "cell_type": "code",
   "execution_count": null,
   "metadata": {},
   "outputs": [],
   "source": [
    "# Defining paths to the weights and configuration file with model of Neural Network\n",
    "weights_path = 'yolov4-obj.weights'\n",
    "configuration_path = 'yolov4-obj.cfg'\n",
    "\n",
    "# Setting minimum probability to eliminate weak predictions\n",
    "probability_minimum = 0.5\n",
    "\n",
    "# Setting threshold for non maximum suppression\n",
    "threshold = 0.3"
   ]
  },
  {
   "cell_type": "code",
   "execution_count": null,
   "metadata": {},
   "outputs": [],
   "source": [
    "\n",
    "\n",
    "network = cv2.dnn.readNetFromDarknet(configuration_path, weights_path)\n",
    "\n",
    "# Getting names of all layers\n",
    "layers_names_all = network.getLayerNames()  # list of layers names\n",
    "\n",
    "# # Check point\n",
    "print(layers_names_all)\n",
    "\n"
   ]
  },
  {
   "cell_type": "code",
   "execution_count": null,
   "metadata": {},
   "outputs": [],
   "source": [
    "# Getting only output layers names that we need from YOLO algorithm\n",
    "layers_names_output = [layers_names_all[i[0] - 1] for i in network.getUnconnectedOutLayers()]  # list of layers' names\n",
    "\n",
    "# Check point\n",
    "print(layers_names_output)  "
   ]
  },
  {
   "cell_type": "code",
   "execution_count": null,
   "metadata": {},
   "outputs": [],
   "source": [
    "# Our image initially is in RGB format\n",
    "# But now we open it in BGR format as function 'cv2.imread' opens it so\n",
    "image_input = cv2.imread('/test_img/car.jpg')\n",
    "\n",
    "# Getting image shape\n",
    "image_input_shape = image_input.shape\n",
    "\n",
    "# Check point\n",
    "print(image_input_shape) "
   ]
  },
  {
   "cell_type": "code",
   "execution_count": null,
   "metadata": {},
   "outputs": [],
   "source": [
    "# Showing RGB image but firstly converting it from BGR format\n",
    "%matplotlib inline\n",
    "plt.rcParams['figure.figsize'] = (10.0, 10.0)\n",
    "plt.imshow(cv2.cvtColor(image_input, cv2.COLOR_BGR2RGB))\n",
    "plt.show()"
   ]
  },
  {
   "cell_type": "code",
   "execution_count": null,
   "metadata": {},
   "outputs": [],
   "source": [
    "blob = cv2.dnn.blobFromImage(image_input, 1 / 255.0, (416, 416), swapRB=True, crop=False)\n",
    "\n",
    "# Check point\n",
    "print(image_input.shape)  \n",
    "print(blob.shape)  "
   ]
  },
  {
   "cell_type": "code",
   "execution_count": null,
   "metadata": {},
   "outputs": [],
   "source": [
    "# Check point\n",
    "# Slicing blob and transposing to make channels come at the end\n",
    "blob_to_show = blob[0, :, :, :].transpose(1, 2, 0)\n",
    "print(blob_to_show.shape)  # (416, 416, 3)\n",
    "\n",
    "# Showing 'blob_to_show'\n",
    "%matplotlib inline\n",
    "plt.rcParams['figure.figsize'] = (5.0, 5.0)\n",
    "plt.imshow(blob_to_show)\n",
    "plt.show()"
   ]
  },
  {
   "cell_type": "code",
   "execution_count": null,
   "metadata": {},
   "outputs": [],
   "source": [
    "# Calculating at the same time, needed time for forward pass\n",
    "network.setInput(blob)  # setting blob as input to the network\n",
    "start = time.time()\n",
    "output_from_network = network.forward(layers_names_output)\n",
    "end = time.time()\n",
    "\n",
    "# Showing spent time for forward pass\n",
    "print('YOLO v4 took {:.3f} seconds'.format(end - start))"
   ]
  },
  {
   "cell_type": "code",
   "execution_count": null,
   "metadata": {},
   "outputs": [],
   "source": [
    "# Check point\n",
    "print(type(output_from_network))  # <class 'list'>\n",
    "print(type(output_from_network[0]))  # <class 'numpy.ndarray'>"
   ]
  },
  {
   "cell_type": "code",
   "execution_count": null,
   "metadata": {},
   "outputs": [],
   "source": [
    "# Seed the generator - every time we run the code it will generate by the same rules\n",
    "# In this way we can keep specific colour the same for every class\n",
    "np.random.seed(42)\n",
    "# randint(low, high=None, size=None, dtype='l')\n",
    "colours = np.random.randint(0, 255, size=(len(labels), 3), dtype='uint8')\n",
    "\n",
    "# Check point\n",
    "print(colours.shape)  \n",
    "print(colours[0])  "
   ]
  },
  {
   "cell_type": "code",
   "execution_count": null,
   "metadata": {},
   "outputs": [],
   "source": [
    "# Preparing lists for detected bounding boxes, obtained confidences and class's number\n",
    "bounding_boxes = []\n",
    "confidences = []\n",
    "class_numbers = []"
   ]
  },
  {
   "cell_type": "code",
   "execution_count": null,
   "metadata": {},
   "outputs": [],
   "source": [
    "# Getting spacial dimension of input image\n",
    "h, w = image_input_shape[:2]  # Slicing from tuple only first two elements\n",
    "\n",
    "# Check point\n",
    "print(h, w) "
   ]
  },
  {
   "cell_type": "code",
   "execution_count": null,
   "metadata": {},
   "outputs": [],
   "source": [
    "for result in output_from_network:\n",
    "    # Going through all detections from current output layer\n",
    "    for detection in result:\n",
    "        # Getting class for current object\n",
    "        scores = detection[5:]\n",
    "        class_current = np.argmax(scores)\n",
    "\n",
    "        # Getting confidence (probability) for current object\n",
    "        confidence_current = scores[class_current]\n",
    "\n",
    "        # Eliminating weak predictions by minimum probability\n",
    "        if confidence_current > probability_minimum:\n",
    "            # Scaling bounding box coordinates to the initial image size\n",
    "            # YOLO data format keeps center of detected box and its width and height\n",
    "            # That is why we can just elementwise multiply them to the width and height of the image\n",
    "            box_current = detection[0:4] * np.array([w, h, w, h])\n",
    "\n",
    "            # From current box with YOLO format getting top left corner coordinates\n",
    "            # that are x_min and y_min\n",
    "            x_center, y_center, box_width, box_height = box_current.astype('int')\n",
    "            x_min = int(x_center - (box_width / 2))\n",
    "            y_min = int(y_center - (box_height / 2))\n",
    "\n",
    "            # Adding results into prepared lists\n",
    "            bounding_boxes.append([x_min, y_min, int(box_width), int(box_height)])\n",
    "            confidences.append(float(confidence_current))\n",
    "            class_numbers.append(class_current)"
   ]
  },
  {
   "cell_type": "code",
   "execution_count": null,
   "metadata": {},
   "outputs": [],
   "source": [
    "# It is needed to make sure the data type of the boxes is 'int'\n",
    "# and the type of the confidences is 'float'\n",
    "# https://github.com/opencv/opencv/issues/12789\n",
    "results = cv2.dnn.NMSBoxes(bounding_boxes, confidences, probability_minimum, threshold)\n",
    "\n",
    "# Check point\n",
    "# Showing labels of the detected objects\n",
    "for i in range(len(class_numbers)):\n",
    "    print(labels[int(class_numbers[i])])\n",
    "\n",
    "# Saving found labels\n",
    "with open('found_labels.txt', 'w') as f:\n",
    "    for i in range(len(class_numbers)):\n",
    "        f.write(labels[int(class_numbers[i])])"
   ]
  },
  {
   "cell_type": "code",
   "execution_count": null,
   "metadata": {},
   "outputs": [],
   "source": [
    "# Checking if there is at least one detected object\n",
    "if len(results) > 0:\n",
    "    # Going through indexes of results\n",
    "    for i in results.flatten():\n",
    "        # Getting current bounding box coordinates\n",
    "        x_min, y_min = bounding_boxes[i][0], bounding_boxes[i][1]\n",
    "        box_width, box_height = bounding_boxes[i][2], bounding_boxes[i][3]\n",
    "\n",
    "        # Preparing colour for current bounding box\n",
    "        colour_box_current = [int(j) for j in colours[class_numbers[i]]]\n",
    "\n",
    "        # Drawing bounding box on the original image\n",
    "        cv2.rectangle(image_input, (x_min, y_min), (x_min + box_width, y_min + box_height),\n",
    "                      colour_box_current, 2)\n",
    "\n",
    "        # Preparing text with label and confidence for current bounding box\n",
    "        text_box_current = '{} : {:.2f}%'.format(labels[int(class_numbers[i])], confidences[i])\n",
    "\n",
    "        # Putting text with label and confidence on the original image\n",
    "        cv2.putText(image_input, text_box_current, (x_min, y_min - 7), cv2.FONT_HERSHEY_SIMPLEX,\n",
    "                0.5, colour_box_current, 2)"
   ]
  },
  {
   "cell_type": "code",
   "execution_count": null,
   "metadata": {},
   "outputs": [],
   "source": [
    "%matplotlib inline\n",
    "plt.rcParams['figure.figsize'] = (10.0, 10.0)\n",
    "plt.imshow(cv2.cvtColor(image_input, cv2.COLOR_BGR2RGB))\n",
    "plt.axis('off')\n",
    "plt.show()"
   ]
  }
 ],
 "metadata": {
  "kernelspec": {
   "display_name": "Python 3",
   "language": "python",
   "name": "python3"
  },
  "language_info": {
   "codemirror_mode": {
    "name": "ipython",
    "version": 3
   },
   "file_extension": ".py",
   "mimetype": "text/x-python",
   "name": "python",
   "nbconvert_exporter": "python",
   "pygments_lexer": "ipython3",
   "version": "3.8.5"
  }
 },
 "nbformat": 4,
 "nbformat_minor": 4
}
